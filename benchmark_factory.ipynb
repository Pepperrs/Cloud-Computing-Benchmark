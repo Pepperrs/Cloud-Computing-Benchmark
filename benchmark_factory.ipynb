{
 "cells": [
  {
   "cell_type": "markdown",
   "metadata": {},
   "source": [
    "# Benchmark compiler\n",
    "This file computes results from benchmark.sh and makes nice plots from them"
   ]
  },
  {
   "cell_type": "code",
   "execution_count": 23,
   "metadata": {
    "collapsed": false
   },
   "outputs": [],
   "source": [
    "def process_line(line):\n",
    "    if \"Benchmark for:\" in line:\n",
    "        return {\"name\": line.rsplit(None, -1)[-1]} # this will break if the hostname contains whitespaces\n",
    "    if \"Benchmark result:\" in line:\n",
    "        return {\"linpack\": line.rsplit(None, -1)[-2]} # returns the number of kflops linpack found\n",
    "    if \"Memsweep time in seconds:\" in line:\n",
    "        return {\"memsweep\": line.rsplit(None, -1)[-1]} # returns the number of seconds memsweep took "
   ]
  },
  {
   "cell_type": "code",
   "execution_count": 59,
   "metadata": {
    "collapsed": false
   },
   "outputs": [
    {
     "name": "stdout",
     "output_type": "stream",
     "text": [
      "[{'name': 'pepperT440PManjaro', 'linpack': '2668999.554', 'memsweep': '4.848'}, {'name': 'pepperT440PManjaro', 'linpack': '2778840.063', 'memsweep': '4.513'}]\n"
     ]
    }
   ],
   "source": [
    "import glob\n",
    "\n",
    "resultfiles = glob.glob(\"results*.txt\")\n",
    "               \n",
    "results = []\n",
    "\n",
    "for resultfile in resultfiles:\n",
    "    \n",
    "    testresults = {}  \n",
    "    \n",
    "    with open(resultfile) as fp:\n",
    "\n",
    "        for line in fp:\n",
    "            \n",
    "            values = process_line(line)\n",
    "            if values != None:\n",
    "                testresults.update(values)\n",
    "                \n",
    "        \n",
    "            \n",
    "    results.append(testresults)\n",
    "print(results)\n",
    " \n"
   ]
  },
  {
   "cell_type": "code",
   "execution_count": 92,
   "metadata": {
    "collapsed": false
   },
   "outputs": [
    {
     "data": {
      "image/png": "[encoded data removed]",
      "text/plain": [
       "<matplotlib.figure.Figure at 0x7ff5ef779940>"
      ]
     },
     "metadata": {},
     "output_type": "display_data"
    },
    {
     "data": {
      "text/plain": [
       "<matplotlib.figure.Figure at 0x7ff5ef2142b0>"
      ]
     },
     "metadata": {},
     "output_type": "display_data"
    },
    {
     "data": {
      "text/plain": [
       "<matplotlib.figure.Figure at 0x7ff5eecd9ac8>"
      ]
     },
     "metadata": {},
     "output_type": "display_data"
    }
   ],
   "source": [
    "import numpy as np\n",
    "import matplotlib.pyplot as plt\n",
    "\n",
    "#todo use results to plot charts that display differences in the machines.\n",
    "\n",
    "plt.rcdefaults()\n",
    "fig, ax = plt.subplots()\n",
    "\n",
    "machines = ([d[\"name\"] for d in results if \"name\" in d])\n",
    "linpack = ([d[\"linpack\"] for d in results if \"linpack\" in d])\n",
    "linpack = list(map(float, linpack))\n",
    "memsweep = ([d[\"memsweep\"] for d in results if \"memsweep\" in d])\n",
    "memsweep = list(map(float, memsweep))\n",
    "\n",
    "plt.figure()\n",
    "y_pos = np.arange(len(machines))\n",
    "\n",
    "ax.barh(y_pos, linpack, align='center', color='green', ecolor='black')\n",
    "ax.set_yticks(y_pos)\n",
    "ax.set_yticklabels(machines)\n",
    "ax.invert_yaxis()  # labels read top-to-bottom\n",
    "ax.set_xlabel('KFLOPs')\n",
    "ax.set_title('Linpack per machine')\n",
    "\n",
    "plt.figure()\n",
    "y_pos = np.arange(len(machines))\n",
    "\n",
    "ax.barh(y_pos, memsweep, align='center', color='green', ecolor='black')\n",
    "ax.set_yticks(y_pos)\n",
    "ax.set_yticklabels(machines)\n",
    "ax.invert_yaxis()  # labels read top-to-bottom\n",
    "ax.set_xlabel('memsweep')\n",
    "ax.set_title('Linpack per machine')\n",
    "\n",
    "plt.show()"
   ]
  },
  {
   "cell_type": "code",
   "execution_count": null,
   "metadata": {
    "collapsed": true
   },
   "outputs": [],
   "source": []
  },
  {
   "cell_type": "code",
   "execution_count": null,
   "metadata": {
    "collapsed": true
   },
   "outputs": [],
   "source": []
  },
  {
   "cell_type": "code",
   "execution_count": null,
   "metadata": {
    "collapsed": true
   },
   "outputs": [],
   "source": []
  }
 ],
 "metadata": {
  "kernelspec": {
   "display_name": "Python 3",
   "language": "python",
   "name": "python3"
  },
  "language_info": {
   "codemirror_mode": {
    "name": "ipython",
    "version": 3
   },
   "file_extension": ".py",
   "mimetype": "text/x-python",
   "name": "python",
   "nbconvert_exporter": "python",
   "pygments_lexer": "ipython3",
   "version": "3.6.0"
  }
 },
 "nbformat": 4,
 "nbformat_minor": 2
}
