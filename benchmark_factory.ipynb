{
 "cells": [
  {
   "cell_type": "markdown",
   "metadata": {},
   "source": [
    "# Benchmark compiler\n",
    "This file computes results from benchmark.sh and makes nice plots from them"
   ]
  },
  {
   "cell_type": "code",
   "execution_count": 21,
   "metadata": {
    "collapsed": false
   },
   "outputs": [],
   "source": [
    "def process_line(line):\n",
    "    if \"Benchmark for:\" in line:\n",
    "        return {\"name\": line.rsplit(None, -1)[-1]} # this will break if the hostname contains whitespaces\n",
    "    if \"Benchmark result:\" in line:\n",
    "        return {\"linpack\": line.rsplit(None, -1)[-2]} # returns the number of kflops linpack found\n",
    "    if \"Memsweep time in seconds:\" in line:\n",
    "        return {\"memsweep\": line.rsplit(None, -1)[-1]} # returns the number of seconds memsweep took "
   ]
  },
  {
   "cell_type": "code",
   "execution_count": 22,
   "metadata": {
    "collapsed": false
   },
   "outputs": [
    {
     "name": "stdout",
     "output_type": "stream",
     "text": [
      "{'name': 'pepperT440PManjaro', 'linpack': '2668999.554', 'memsweep': '4.848'}\n"
     ]
    }
   ],
   "source": [
    "import glob\n",
    "\n",
    "resultfiles = glob.glob(\"results*.txt\")\n",
    "               \n",
    "results = []\n",
    "\n",
    "for resultfile in resultfiles:\n",
    "    \n",
    "    testresults = {}  \n",
    "    \n",
    "    with open(resultfile) as fp:\n",
    "\n",
    "        for line in fp:\n",
    "            \n",
    "            values = process_line(line)\n",
    "            if values != None:\n",
    "                testresults.update(values)\n",
    "                \n",
    "        print(testresults)\n",
    "            \n",
    "                \n",
    "    #todo add testresults to results\n",
    " \n"
   ]
  },
  {
   "cell_type": "code",
   "execution_count": null,
   "metadata": {
    "collapsed": true
   },
   "outputs": [],
   "source": [
    "#todo use results to plot charts that display differences in the machines."
   ]
  }
 ],
 "metadata": {
  "kernelspec": {
   "display_name": "Python 3",
   "language": "python",
   "name": "python3"
  },
  "language_info": {
   "codemirror_mode": {
    "name": "ipython",
    "version": 3
   },
   "file_extension": ".py",
   "mimetype": "text/x-python",
   "name": "python",
   "nbconvert_exporter": "python",
   "pygments_lexer": "ipython3",
   "version": "3.6.0"
  }
 },
 "nbformat": 4,
 "nbformat_minor": 2
}
