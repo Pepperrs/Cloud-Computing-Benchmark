{
 "cells": [
  {
   "cell_type": "markdown",
   "metadata": {},
   "source": [
    "# Diskbenchmarks"
   ]
  },
  {
   "cell_type": "code",
   "execution_count": 1,
   "metadata": {
    "collapsed": true
   },
   "outputs": [],
   "source": [
    "import numpy as np\n",
    "import pandas as pd\n",
    "import matplotlib as mpl\n",
    "import matplotlib.pyplot as plt\n",
    "%matplotlib inline"
   ]
  },
  {
   "cell_type": "code",
   "execution_count": 2,
   "metadata": {
    "collapsed": true
   },
   "outputs": [],
   "source": [
    "import seaborn as sns"
   ]
  },
  {
   "cell_type": "code",
   "execution_count": 3,
   "metadata": {
    "collapsed": true
   },
   "outputs": [],
   "source": [
    "sequential_writes_benchmarks = pd.DataFrame([\n",
    "    ['10 a.m.', 413, 'thinkpad'],\n",
    "    ['10 a.m.', 404, 'thinkpad'],\n",
    "    ['10 a.m.', 377, 'thinkpad'],\n",
    "    ['2 p.m.', 413, 'thinkpad'],\n",
    "    ['2 p.m.', 404, 'thinkpad'],\n",
    "    ['2 p.m.', 377, 'thinkpad'],\n",
    "    ['12 a.m.', 413, 'thinkpad'],\n",
    "    ['12 a.m.', 404, 'thinkpad'],\n",
    "    ['12 a.m.', 377, 'thinkpad'],\n",
    "    ['10 a.m.', 113, 'openstack'],\n",
    "    ['10 a.m.', 115, 'openstack'],\n",
    "    ['10 a.m.', 105, 'openstack'],\n",
    "    ['2 p.m.', 38.4, 'openstack'],\n",
    "    ['2 p.m.', 42.0, 'openstack'],\n",
    "    ['2 p.m.', 41.8, 'openstack'],\n",
    "    ['12 a.m.', 30.6, 'openstack'],\n",
    "    ['12 a.m.', 32.3, 'openstack'],\n",
    "    ['12 a.m.', 32.9, 'openstack'],\n",
    "], columns=['daytime', 'MB/s', 'type'])"
   ]
  },
  {
   "cell_type": "code",
   "execution_count": 4,
   "metadata": {},
   "outputs": [
    {
     "data": {
      "image/png": "[encoded data removed]",
      "text/plain": [
       "<matplotlib.figure.Figure at 0x7fdd4cd67da0>"
      ]
     },
     "metadata": {},
     "output_type": "display_data"
    }
   ],
   "source": [
    "ax = sns.barplot(x=\"daytime\", y=\"MB/s\", hue=\"type\", data=sequential_writes_benchmarks)"
   ]
  },
  {
   "cell_type": "code",
   "execution_count": 5,
   "metadata": {
    "collapsed": true
   },
   "outputs": [],
   "source": [
    "iops_write_benchmarks = pd.DataFrame([\n",
    "    ['10 a.m.', 201, 'thinkpad'],\n",
    "    ['10 a.m.', 202, 'thinkpad'],\n",
    "    ['10 a.m.', 207, 'thinkpad'],\n",
    "    ['2 p.m.', 201, 'thinkpad'],\n",
    "    ['2 p.m.', 202, 'thinkpad'],\n",
    "    ['2 p.m.', 207, 'thinkpad'],\n",
    "    ['12 a.m.', 201, 'thinkpad'],\n",
    "    ['12 a.m.', 202, 'thinkpad'],\n",
    "    ['12 a.m.', 207, 'thinkpad'],\n",
    "    ['10 a.m.', 126, 'openstack'],\n",
    "    ['10 a.m.', 134, 'openstack'],\n",
    "    ['10 a.m.', 134, 'openstack'],\n",
    "    ['2 p.m.', 18, 'openstack'],\n",
    "    ['2 p.m.', 19, 'openstack'],\n",
    "    ['2 p.m.', 20, 'openstack'],\n",
    "    ['12 a.m.', 11, 'openstack'],\n",
    "    ['12 a.m.', 12, 'openstack'],\n",
    "    ['12 a.m.', 9, 'openstack'],\n",
    "], columns=['daytime', 'MB/s', 'type'])"
   ]
  },
  {
   "cell_type": "code",
   "execution_count": 6,
   "metadata": {},
   "outputs": [
    {
     "data": {
      "image/png": "[encoded data removed]",
      "text/plain": [
       "<matplotlib.figure.Figure at 0x7fdd4a7f6278>"
      ]
     },
     "metadata": {},
     "output_type": "display_data"
    }
   ],
   "source": [
    "ax = sns.barplot(x=\"daytime\", y=\"MB/s\", hue=\"type\", data=iops_write_benchmarks)"
   ]
  },
  {
   "cell_type": "code",
   "execution_count": 10,
   "metadata": {},
   "outputs": [],
   "source": [
    "cache_read_benchmarks = pd.DataFrame([\n",
    "    ['w', 6100, 'thinkpad'],\n",
    "    ['w', 5900, 'thinkpad'],\n",
    "    ['w', 5900, 'thinkpad'],\n",
    "    ['w/o', 520, 'thinkpad'],\n",
    "    ['w/o', 533, 'thinkpad'],\n",
    "    ['w/o', 527, 'thinkpad'],\n",
    "    ['w', 130, 'openstack'],\n",
    "    ['w', 129, 'openstack'],\n",
    "    ['w', 126, 'openstack'],\n",
    "    ['w', 9.2, 'openstack'],\n",
    "    ['w', 9.9, 'openstack'],\n",
    "    ['w', 10.2, 'openstack'],\n",
    "    ['w', 5.7, 'openstack'],\n",
    "    ['w', 7.0, 'openstack'],\n",
    "    ['w', 5.6, 'openstack'],\n",
    "    ['w/o', 130, 'openstack'],\n",
    "    ['w/o', 128, 'openstack'],\n",
    "    ['w/o', 125, 'openstack'],\n",
    "    ['w/o', 9.3, 'openstack'],\n",
    "    ['w/o', 10.1, 'openstack'],\n",
    "    ['w/o', 9.7, 'openstack'],\n",
    "    ['w/o', 5.9, 'openstack'],\n",
    "    ['w/o', 7.2, 'openstack'],\n",
    "    ['w/o', 5.9, 'openstack']\n",
    "], columns=['cache', 'MB/s', 'type'])"
   ]
  },
  {
   "cell_type": "code",
   "execution_count": null,
   "metadata": {
    "collapsed": true
   },
   "outputs": [],
   "source": [
    "ax = sns.barplot(x=\"type\", y=\"MB/s\", hue=\"cache\", data=cache_read_benchmarks)"
   ]
  }
 ],
 "metadata": {
  "kernelspec": {
   "display_name": "Python 3",
   "language": "python",
   "name": "python3"
  },
  "language_info": {
   "codemirror_mode": {
    "name": "ipython",
    "version": 3
   },
   "file_extension": ".py",
   "mimetype": "text/x-python",
   "name": "python",
   "nbconvert_exporter": "python",
   "pygments_lexer": "ipython3",
   "version": "3.6.0"
  }
 },
 "nbformat": 4,
 "nbformat_minor": 2
}
